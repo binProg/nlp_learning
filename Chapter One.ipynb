{
 "cells": [
  {
   "cell_type": "markdown",
   "metadata": {},
   "source": [
    "### Demo 1"
   ]
  },
  {
   "cell_type": "markdown",
   "metadata": {},
   "source": [
    "np.array():生成向量或者矩阵"
   ]
  },
  {
   "cell_type": "code",
   "execution_count": 1,
   "metadata": {},
   "outputs": [],
   "source": [
    "import numpy as np"
   ]
  },
  {
   "cell_type": "code",
   "execution_count": 2,
   "metadata": {},
   "outputs": [],
   "source": [
    "x = np.array([1,2,3])"
   ]
  },
  {
   "cell_type": "code",
   "execution_count": 6,
   "metadata": {},
   "outputs": [
    {
     "data": {
      "text/plain": [
       "(3,)"
      ]
     },
     "execution_count": 6,
     "metadata": {},
     "output_type": "execute_result"
    }
   ],
   "source": [
    "x.shape"
   ]
  },
  {
   "cell_type": "code",
   "execution_count": 7,
   "metadata": {},
   "outputs": [
    {
     "data": {
      "text/plain": [
       "1"
      ]
     },
     "execution_count": 7,
     "metadata": {},
     "output_type": "execute_result"
    }
   ],
   "source": [
    "x.ndim"
   ]
  },
  {
   "cell_type": "code",
   "execution_count": 8,
   "metadata": {},
   "outputs": [],
   "source": [
    "W = np.array([[1 ,2, 3], [4, 5, 6]])"
   ]
  },
  {
   "cell_type": "code",
   "execution_count": 9,
   "metadata": {},
   "outputs": [
    {
     "data": {
      "text/plain": [
       "(2, 3)"
      ]
     },
     "execution_count": 9,
     "metadata": {},
     "output_type": "execute_result"
    }
   ],
   "source": [
    "W.shape"
   ]
  },
  {
   "cell_type": "code",
   "execution_count": 10,
   "metadata": {},
   "outputs": [
    {
     "data": {
      "text/plain": [
       "2"
      ]
     },
     "execution_count": 10,
     "metadata": {},
     "output_type": "execute_result"
    }
   ],
   "source": [
    "W.ndim"
   ]
  },
  {
   "cell_type": "markdown",
   "metadata": {},
   "source": [
    "矩阵对应元素的计算"
   ]
  },
  {
   "cell_type": "code",
   "execution_count": 11,
   "metadata": {},
   "outputs": [
    {
     "data": {
      "text/plain": [
       "array([[ 1,  3,  5],\n",
       "       [ 7,  9, 11]])"
      ]
     },
     "execution_count": 11,
     "metadata": {},
     "output_type": "execute_result"
    }
   ],
   "source": [
    "W = np.array([[1, 2, 3], [4, 5, 6]])\n",
    "X = np.array([[0, 1, 2], [3, 4, 5]])\n",
    "W+X"
   ]
  },
  {
   "cell_type": "code",
   "execution_count": 12,
   "metadata": {},
   "outputs": [
    {
     "data": {
      "text/plain": [
       "array([[ 0,  2,  6],\n",
       "       [12, 20, 30]])"
      ]
     },
     "execution_count": 12,
     "metadata": {},
     "output_type": "execute_result"
    }
   ],
   "source": [
    "W*X"
   ]
  },
  {
   "cell_type": "markdown",
   "metadata": {},
   "source": [
    "广播：图形不一致的对应位置的乘积\n"
   ]
  },
  {
   "cell_type": "code",
   "execution_count": 13,
   "metadata": {},
   "outputs": [],
   "source": [
    "A = np.array([[1, 2], [3, 4]])"
   ]
  },
  {
   "cell_type": "code",
   "execution_count": 14,
   "metadata": {},
   "outputs": [
    {
     "data": {
      "text/plain": [
       "array([[10, 20],\n",
       "       [30, 40]])"
      ]
     },
     "execution_count": 14,
     "metadata": {},
     "output_type": "execute_result"
    }
   ],
   "source": [
    "A*10 # 【10】扩展成了数组A相同的情况，然后对应位相乘"
   ]
  },
  {
   "cell_type": "code",
   "execution_count": 15,
   "metadata": {},
   "outputs": [
    {
     "data": {
      "text/plain": [
       "array([[10, 40],\n",
       "       [30, 80]])"
      ]
     },
     "execution_count": 15,
     "metadata": {},
     "output_type": "execute_result"
    }
   ],
   "source": [
    "b = np.array([10, 20]) # b被扩展成了与数组A相同的情况，然后对应位相乘\n",
    "A*b"
   ]
  },
  {
   "cell_type": "markdown",
   "metadata": {},
   "source": [
    "向量内积和矩阵乘积：np.dot()\n",
    "> 当np.dot(x, y):\n",
    ">   参数是一维数组：计算向量内积\n",
    ">   参数是二维数组：计算矩阵乘积"
   ]
  },
  {
   "cell_type": "code",
   "execution_count": 16,
   "metadata": {},
   "outputs": [
    {
     "data": {
      "text/plain": [
       "32"
      ]
     },
     "execution_count": 16,
     "metadata": {},
     "output_type": "execute_result"
    }
   ],
   "source": [
    "# 向量内积\n",
    "a = np.array([1, 2, 3])\n",
    "b = np.array([4, 5, 6])\n",
    "np.dot(a, b)"
   ]
  },
  {
   "cell_type": "code",
   "execution_count": 17,
   "metadata": {},
   "outputs": [
    {
     "data": {
      "text/plain": [
       "array([[19, 22],\n",
       "       [43, 50]])"
      ]
     },
     "execution_count": 17,
     "metadata": {},
     "output_type": "execute_result"
    }
   ],
   "source": [
    "# 矩阵乘积\n",
    "A = np.array([[1, 2], [3, 4]])\n",
    "B = np.array([[5, 6], [7, 8]])\n",
    "np.dot(A, B)"
   ]
  },
  {
   "cell_type": "markdown",
   "metadata": {},
   "source": [
    "### Demo 02 神经网络复习"
   ]
  },
  {
   "cell_type": "markdown",
   "metadata": {},
   "source": [
    "1. mini-batch版的全连接层变换\n",
    "![神经网络](../imgs/chapter0102.png)"
   ]
  },
  {
   "cell_type": "code",
   "execution_count": 19,
   "metadata": {},
   "outputs": [],
   "source": [
    "import numpy as np"
   ]
  },
  {
   "cell_type": "code",
   "execution_count": 21,
   "metadata": {},
   "outputs": [],
   "source": [
    "W1 = np.random.randn(2,4)#权重\n",
    "b1 = np.random.randn(4)#偏置\n",
    "x = np.random.randn(10, 2)#输入\n",
    "h = np.dot(x,W1)+b1 #b1的加法会触发广播功能"
   ]
  },
  {
   "cell_type": "code",
   "execution_count": 22,
   "metadata": {},
   "outputs": [
    {
     "data": {
      "text/plain": [
       "array([[-0.5689361 , -0.88580891, -0.0287992 , -2.62407764],\n",
       "       [-0.94584889,  0.06583867, -0.95433171, -2.37918799],\n",
       "       [ 0.19614424, -0.95234418,  0.22625103,  0.34726126],\n",
       "       [ 0.92948246, -2.7489615 ,  1.97917332, -0.0270227 ],\n",
       "       [-0.42708668, -0.55197511, -0.28285534, -1.42945001],\n",
       "       [ 0.06870666,  0.16874077, -0.78249828,  1.91646224],\n",
       "       [-1.49894605,  1.23463286, -2.11428782, -2.44323706],\n",
       "       [-1.69169741,  1.29624695, -2.21758774, -3.10842007],\n",
       "       [ 0.31199324, -1.33975787,  0.59334753,  0.0954945 ],\n",
       "       [ 0.44648034, -1.78791668,  1.01812545, -0.19383336]])"
      ]
     },
     "execution_count": 22,
     "metadata": {},
     "output_type": "execute_result"
    }
   ],
   "source": [
    "h"
   ]
  },
  {
   "cell_type": "markdown",
   "metadata": {},
   "source": [
    "> 全连接层的变换是**线性变换**，激活函数赋予它非线性的效果。\n",
    "> 严格地讲，非线性地激活函数能增强神经网络的表现力\n",
    "\n",
    "sigmoid激活函数的图像如下所示：\n",
    "![sigmoid](../imgs/sigmoid.png)"
   ]
  },
  {
   "cell_type": "code",
   "execution_count": 23,
   "metadata": {},
   "outputs": [],
   "source": [
    "def sigmoid(x):\n",
    "    return 1/(1+np.exp(-x))\n",
    "\n",
    "a = sigmoid(h)"
   ]
  },
  {
   "cell_type": "code",
   "execution_count": 24,
   "metadata": {},
   "outputs": [
    {
     "data": {
      "text/plain": [
       "array([[0.36148235, 0.29197548, 0.4928007 , 0.06760481],\n",
       "       [0.27972041, 0.51645373, 0.27801452, 0.08477355],\n",
       "       [0.54887945, 0.27841363, 0.5563227 , 0.58595329],\n",
       "       [0.71697028, 0.06014533, 0.87859301, 0.49324473],\n",
       "       [0.39482222, 0.36540629, 0.42975389, 0.19318439],\n",
       "       [0.51716991, 0.54208538, 0.3137817 , 0.87174341],\n",
       "       [0.18258277, 0.7746284 , 0.10771586, 0.07993452],\n",
       "       [0.15555275, 0.78520267, 0.09818218, 0.04276127],\n",
       "       [0.57737171, 0.20754988, 0.64413285, 0.5238555 ],\n",
       "       [0.60980208, 0.14332833, 0.7346073 , 0.45169281]])"
      ]
     },
     "execution_count": 24,
     "metadata": {},
     "output_type": "execute_result"
    }
   ],
   "source": [
    "a"
   ]
  },
  {
   "cell_type": "markdown",
   "metadata": {},
   "source": [
    "### 完整版"
   ]
  },
  {
   "cell_type": "code",
   "execution_count": 1,
   "metadata": {},
   "outputs": [],
   "source": [
    "import numpy as np\n",
    "def sigmoid(x):\n",
    "    return 1/(1+np.exp(-x))\n",
    "x = np.random.randn(10,2)\n",
    "W1 = np.random.randn(2,4)\n",
    "b1 = np.random.randn(4)\n",
    "\n",
    "W2 = np.random.randn(4,3)\n",
    "b2 = np.random.randn(3)"
   ]
  },
  {
   "cell_type": "code",
   "execution_count": 2,
   "metadata": {},
   "outputs": [],
   "source": [
    "h = np.dot(x, W1)\n",
    "a = sigmoid(h)\n",
    "s = np.dot(a, W2)+b2"
   ]
  },
  {
   "cell_type": "code",
   "execution_count": 3,
   "metadata": {},
   "outputs": [
    {
     "name": "stdout",
     "output_type": "stream",
     "text": [
      "[[-0.77321166 -0.48782751  0.18067015]\n",
      " [-0.16356639 -0.41154684  0.52719573]\n",
      " [ 0.53837917 -0.0741918   0.88100971]\n",
      " [-0.22365587 -0.11713888  0.44473631]\n",
      " [ 0.24930179 -0.17704533  0.72228689]\n",
      " [-0.58580422 -0.78583765  0.3285916 ]\n",
      " [ 0.24270236 -0.56642706  0.79033225]\n",
      " [-0.55848233 -0.58867341  0.3248422 ]\n",
      " [ 0.21584459 -0.21025896  0.7081437 ]\n",
      " [-0.46901175 -0.37693344  0.34936595]]\n"
     ]
    }
   ],
   "source": [
    "print(s) # 共10行，即10组数据；分成3类，取概率最大的那一类为结果"
   ]
  },
  {
   "cell_type": "code",
   "execution_count": null,
   "metadata": {},
   "outputs": [],
   "source": []
  }
 ],
 "metadata": {
  "kernelspec": {
   "display_name": "Python paper",
   "language": "python",
   "name": "paper"
  },
  "language_info": {
   "codemirror_mode": {
    "name": "ipython",
    "version": 3
   },
   "file_extension": ".py",
   "mimetype": "text/x-python",
   "name": "python",
   "nbconvert_exporter": "python",
   "pygments_lexer": "ipython3",
   "version": "3.7.1"
  }
 },
 "nbformat": 4,
 "nbformat_minor": 2
}
